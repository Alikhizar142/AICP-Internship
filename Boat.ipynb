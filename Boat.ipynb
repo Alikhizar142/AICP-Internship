{
 "cells": [
  {
   "cell_type": "code",
   "execution_count": 3,
   "metadata": {},
   "outputs": [
    {
     "name": "stdout",
     "output_type": "stream",
     "text": [
      "Boat 1 has been rented from 12:00 to 14:00.\n",
      "Boat 2 has been rented from 15:00 to 17:00.\n",
      "Total money taken: $80.00\n",
      "Total hours hired: 4.00\n",
      "Number of boats not used: 8\n",
      "Most used boat: 1 (Total money taken: $40.00)\n"
     ]
    }
   ],
   "source": [
    "import datetime\n",
    "\n",
    "# Define constants\n",
    "NUMBER_OF_BOATS = 10\n",
    "START_HOUR = 10\n",
    "END_HOUR = 17\n",
    "HOURLY_RATE = 20\n",
    "HALF_HOURLY_RATE = 12\n",
    "\n",
    "# Initialize data structures\n",
    "boat_data = [{\"id\": i+1, \"start_time\": None, \"end_time\": None, \"money_taken\": 0} for i in range(NUMBER_OF_BOATS)]\n",
    "total_money_taken = 0\n",
    "total_hours_hired = 0\n",
    "\n",
    "def check_boat_availability():\n",
    "    available_boats = [boat for boat in boat_data if boat[\"start_time\"] is None]\n",
    "    return available_boats\n",
    "\n",
    "def rent_boat():\n",
    "    global total_money_taken, total_hours_hired\n",
    "    boat_id = int(input(\"Enter the boat number to rent: \"))\n",
    "    start_time = input(\"Enter the start time (HH:MM): \")\n",
    "    end_time = input(\"Enter the end time (HH:MM): \")\n",
    "\n",
    "    start_time = datetime.datetime.strptime(start_time, \"%H:%M\")\n",
    "    end_time = datetime.datetime.strptime(end_time, \"%H:%M\")\n",
    "\n",
    "    for boat in boat_data:\n",
    "        if boat[\"id\"] == boat_id and boat[\"start_time\"] is None:\n",
    "            boat[\"start_time\"] = start_time\n",
    "            boat[\"end_time\"] = end_time\n",
    "            time_difference = (end_time - start_time).total_seconds() / 3600  # Calculate time difference in hours\n",
    "            total_hours_hired += time_difference\n",
    "            money_taken = calculate_rent(time_difference)\n",
    "            boat[\"money_taken\"] += money_taken\n",
    "            total_money_taken += money_taken\n",
    "            return f\"Boat {boat_id} has been rented from {start_time.strftime('%H:%M')} to {end_time.strftime('%H:%M')}.\"\n",
    "    return \"Boat not available.\"\n",
    "\n",
    "def calculate_rent(hours):\n",
    "    rent = 0\n",
    "    for _ in range(int(hours)):\n",
    "        rent += HOURLY_RATE\n",
    "    if hours % 1 != 0:  # If there are remaining minutes\n",
    "        rent += HALF_HOURLY_RATE\n",
    "    return rent\n",
    "\n",
    "def report():\n",
    "    available_boats = check_boat_availability()\n",
    "    print(f\"Total money taken: ${total_money_taken:.2f}\")\n",
    "    print(f\"Total hours hired: {total_hours_hired:.2f}\")\n",
    "    print(f\"Number of boats not used: {len(available_boats)}\")\n",
    "    most_used_boat = max(boat_data, key=lambda x: x['money_taken'])\n",
    "    print(f\"Most used boat: {most_used_boat['id']} (Total money taken: ${most_used_boat['money_taken']:.2f})\")\n",
    "\n",
    "# Example usage\n",
    "print(rent_boat())\n",
    "print(rent_boat())\n",
    "report()\n"
   ]
  }
 ],
 "metadata": {
  "kernelspec": {
   "display_name": "base",
   "language": "python",
   "name": "python3"
  },
  "language_info": {
   "codemirror_mode": {
    "name": "ipython",
    "version": 3
   },
   "file_extension": ".py",
   "mimetype": "text/x-python",
   "name": "python",
   "nbconvert_exporter": "python",
   "pygments_lexer": "ipython3",
   "version": "3.11.5"
  }
 },
 "nbformat": 4,
 "nbformat_minor": 2
}
