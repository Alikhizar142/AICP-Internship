{
 "cells": [
  {
   "cell_type": "code",
   "execution_count": 2,
   "metadata": {},
   "outputs": [
    {
     "name": "stdout",
     "output_type": "stream",
     "text": [
      "B received a donation of $65.00\n",
      "A received a donation of $6.54\n",
      "C received a donation of $98.74\n",
      "GRAND TOTAL DONATED TO CHARITY\n",
      "C: $98.74\n",
      "B: $65.00\n",
      "A: $6.54\n",
      "Total grand total donated: $170.28\n"
     ]
    }
   ],
   "source": [
    "# Constants\n",
    "NUM_CHARITIES = 3\n",
    "\n",
    "# Function to set up the donation system\n",
    "def set_up_donation_system():\n",
    "    charity_names = []\n",
    "    for i in range(NUM_CHARITIES):\n",
    "        name = input(f\"Enter the name of charity {i+1}: \")\n",
    "        charity_names.append(name)\n",
    "    return charity_names\n",
    "\n",
    "# Function to calculate the donation for a customer\n",
    "def calculate_donation(shopping_bill, donation_percentage):\n",
    "    return shopping_bill * donation_percentage\n",
    "\n",
    "# Function to record and total each donation\n",
    "def record_and_total_donations(charity_names):\n",
    "    totals = [0] * NUM_CHARITIES\n",
    "    while True:\n",
    "        charity_choice = int(input(\"Enter the charity choice (-1 to show totals, 1-3 to make a donation): \"))\n",
    "        if charity_choice == -1:\n",
    "            break\n",
    "        shopping_bill = float(input(\"Enter the value of the customer's shopping bill: \"))\n",
    "        donation = calculate_donation(shopping_bill, 0.01)\n",
    "        totals[charity_choice-1] += donation\n",
    "        print(f\"{charity_names[charity_choice-1]} received a donation of ${donation:.2f}\")\n",
    "    return totals\n",
    "\n",
    "# Function to display the totals\n",
    "def display_totals(charity_names, totals):\n",
    "    sorted_indices = sorted(range(NUM_CHARITIES), key=lambda i: -totals[i])\n",
    "    grand_total = sum(totals)\n",
    "    print(\"GRAND TOTAL DONATED TO CHARITY\")\n",
    "    for i in sorted_indices:\n",
    "        print(f\"{charity_names[i]}: ${totals[i]:.2f}\")\n",
    "    print(f\"Total grand total donated: ${grand_total:.2f}\")\n",
    "\n",
    "# Main program\n",
    "def main():\n",
    "    charity_names = set_up_donation_system()\n",
    "    totals = record_and_total_donations(charity_names)\n",
    "    display_totals(charity_names, totals)\n",
    "\n",
    "# Run the program\n",
    "if __name__ == \"__main__\":\n",
    "    main()"
   ]
  }
 ],
 "metadata": {
  "kernelspec": {
   "display_name": "base",
   "language": "python",
   "name": "python3"
  },
  "language_info": {
   "codemirror_mode": {
    "name": "ipython",
    "version": 3
   },
   "file_extension": ".py",
   "mimetype": "text/x-python",
   "name": "python",
   "nbconvert_exporter": "python",
   "pygments_lexer": "ipython3",
   "version": "3.11.5"
  }
 },
 "nbformat": 4,
 "nbformat_minor": 2
}
