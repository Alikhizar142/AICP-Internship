{
 "cells": [
  {
   "cell_type": "code",
   "execution_count": 5,
   "metadata": {},
   "outputs": [
    {
     "name": "stdout",
     "output_type": "stream",
     "text": [
      "Student ID: ABC123\n",
      "\n",
      "Menu:\n",
      "1. Display the bill of slab 1 and slab 2\n",
      "2. Display the bill of slab 3\n",
      "Press any other key to exit\n",
      "[550, 650, 750]\n",
      "1800 2250 2550\n",
      "\n",
      "Menu:\n",
      "1. Display the bill of slab 1 and slab 2\n",
      "2. Display the bill of slab 3\n",
      "Press any other key to exit\n",
      "4200 4600 4800\n",
      "\n",
      "Menu:\n",
      "1. Display the bill of slab 1 and slab 2\n",
      "2. Display the bill of slab 3\n",
      "Press any other key to exit\n"
     ]
    }
   ],
   "source": [
    "# Source data - a 2D array to represent electricity consumption for different slabs\n",
    "electricity_consumption = [\n",
    "    [55, 65, 75],  # Slab 1 - Row 1\n",
    "    [120, 150, 170],  # Slab 2 - Row 2\n",
    "    [210, 230, 240]  # Slab 3 - Row 3\n",
    "]\n",
    "\n",
    "# Function to calculate and display cost for slab 1\n",
    "def costSlab1():\n",
    "    unit_cost = 10\n",
    "    slab1_data = electricity_consumption[0]  # Data for slab 1 in the first row\n",
    "    total_cost = [unit * unit_cost for unit in slab1_data]\n",
    "    print(\" \".join(map(str, total_cost)))\n",
    "# Function to calculate and display cost for slab 2\n",
    "def costSlab2():\n",
    "    unit_cost = 15\n",
    "    slab2_data = electricity_consumption[1]  # Data for slab 2 in the second row\n",
    "    total_cost = [unit * unit_cost for unit in slab2_data]\n",
    "    print(\" \".join(map(str, total_cost)))\n",
    "\n",
    "# Function to calculate and display cost for slab 3\n",
    "def costSlab3():\n",
    "    unit_cost = 20\n",
    "    slab3_data = electricity_consumption[2]  # Data for slab 3 in the third row\n",
    "    total_cost = [unit * unit_cost for unit in slab3_data]\n",
    "    print(\" \".join(map(str, total_cost)))\n",
    "\n",
    "# Display student ID\n",
    "student_id = \"XYZ12352\" \n",
    "print(f\"Student ID: {student_id}\")\n",
    "\n",
    "# Menu\n",
    "while True:\n",
    "    print(\"\\nMenu:\")\n",
    "    print(\"1. Display the bill of slab 1 and slab 2\")\n",
    "    print(\"2. Display the bill of slab 3\")\n",
    "    print(\"Press any other key to exit\")\n",
    "\n",
    "    choice = input(\"Enter your choice: \")\n",
    "    choice=int(choice)\n",
    "    if choice == 1:\n",
    "        costSlab1()\n",
    "        costSlab2()\n",
    "    elif choice == 2:\n",
    "        costSlab3()\n",
    "    else:\n",
    "        break\n"
   ]
  }
 ],
 "metadata": {
  "kernelspec": {
   "display_name": "base",
   "language": "python",
   "name": "python3"
  },
  "language_info": {
   "codemirror_mode": {
    "name": "ipython",
    "version": 3
   },
   "file_extension": ".py",
   "mimetype": "text/x-python",
   "name": "python",
   "nbconvert_exporter": "python",
   "pygments_lexer": "ipython3",
   "version": "3.11.5"
  }
 },
 "nbformat": 4,
 "nbformat_minor": 2
}
