{
 "cells": [
  {
   "cell_type": "code",
   "execution_count": 1,
   "metadata": {},
   "outputs": [
    {
     "name": "stdout",
     "output_type": "stream",
     "text": [
      "1.Calculate Area , permiemetr and sum of angles of hexagon\n",
      "2.Calculate area and peri for square\n",
      "Anyother for exit\n",
      "Hexagon:\n",
      "Area: 64.9519052838329\n",
      "Perimeter: 30\n",
      "Sum of Angles: 720\n",
      "1.Calculate Area , permiemetr and sum of angles of hexagon\n",
      "2.Calculate area and peri for square\n",
      "Anyother for exit\n",
      "Square:\n",
      "Area: 36\n",
      "Perimeter: 24\n",
      "1.Calculate Area , permiemetr and sum of angles of hexagon\n",
      "2.Calculate area and peri for square\n",
      "Anyother for exit\n"
     ]
    }
   ],
   "source": [
    "import math\n",
    "class Hexagon:\n",
    "    def __init__(self, side_length):\n",
    "        self.side_length = side_length\n",
    "\n",
    "    def calcArea(self):\n",
    "        return 1.5 * math.sqrt(3) * (self.side_length ** 2)\n",
    "\n",
    "    def calcPeri(self):\n",
    "        return 6 * self.side_length\n",
    "\n",
    "    def calcAngleSum(self):\n",
    "        return 6 * 120\n",
    "\n",
    "    def display(self):\n",
    "        print(\"Hexagon:\")\n",
    "        print(f\"Area: {self.calcArea()}\")\n",
    "        print(f\"Perimeter: {self.calcPeri()}\")\n",
    "        print(f\"Sum of Angles: {self.calcAngleSum()}\")\n",
    "\n",
    "class Square:\n",
    "    def __init__(self, side_length):\n",
    "        self.side_length = side_length\n",
    "\n",
    "    def calcAreaSquare(self):\n",
    "        return self.side_length ** 2\n",
    "\n",
    "    def calcPeriSquare(self):\n",
    "        return 4 * self.side_length\n",
    "\n",
    "    def display(self):\n",
    "        print(\"Square:\")\n",
    "        print(f\"Area: {self.calcAreaSquare()}\")\n",
    "        print(f\"Perimeter: {self.calcPeriSquare()}\")\n",
    "\n",
    "your_cnic = 5 \n",
    "while True:\n",
    "    print(\"1.Calculate Area , permiemetr and sum of angles of hexagon\")\n",
    "    print(\"2.Calculate area and peri for square\")\n",
    "    print(\"Anyother for exit\")\n",
    "    choice=input(\"Enter a Number:\")\n",
    "    choice=int(choice)\n",
    "    if choice == 1:\n",
    "        hexagon_side_length = your_cnic\n",
    "        hexagon = Hexagon(hexagon_side_length)\n",
    "        hexagon.display()\n",
    "    elif choice == 2:\n",
    "        square_side_length = your_cnic + 1\n",
    "        square = Square(square_side_length)\n",
    "        square.display()\n",
    "    else:\n",
    "        break\n"
   ]
  }
 ],
 "metadata": {
  "kernelspec": {
   "display_name": "base",
   "language": "python",
   "name": "python3"
  },
  "language_info": {
   "codemirror_mode": {
    "name": "ipython",
    "version": 3
   },
   "file_extension": ".py",
   "mimetype": "text/x-python",
   "name": "python",
   "nbconvert_exporter": "python",
   "pygments_lexer": "ipython3",
   "version": "3.11.5"
  }
 },
 "nbformat": 4,
 "nbformat_minor": 2
}
