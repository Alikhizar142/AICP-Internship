{
 "cells": [
  {
   "cell_type": "code",
   "execution_count": 6,
   "metadata": {},
   "outputs": [
    {
     "name": "stdout",
     "output_type": "stream",
     "text": [
      "Enter sacks for the delivery. Type 'q' to finish.\n",
      "Total weight: 125.0\n",
      "Total price: 24.75\n",
      "Regular price: 27.5\n"
     ]
    }
   ],
   "source": [
    "class Sack:\n",
    "    def __init__(self, weight, content):\n",
    "        self.weight = weight\n",
    "        self.content = content\n",
    "\n",
    "class Delivery:\n",
    "    def __init__(self):\n",
    "        self.sacks = []\n",
    "\n",
    "    def add_sack(self, sack):\n",
    "        self.sacks.append(sack)\n",
    "\n",
    "    def calculate_price(self):\n",
    "        regular_price = 0\n",
    "        price = 0\n",
    "        for sack in self.sacks:\n",
    "            if sack.content == 'C':\n",
    "                price += 0.1 * sack.weight\n",
    "                regular_price += 0.1 * sack.weight\n",
    "            elif sack.content == 'G':\n",
    "                price += 0.2 * sack.weight\n",
    "                regular_price += 0.2 * sack.weight\n",
    "            elif sack.content == 'S':\n",
    "                price += 0.3 * sack.weight\n",
    "                regular_price += 0.3 * sack.weight\n",
    "\n",
    "        # discount for overweight deliveries\n",
    "        if self.total_weight > 100:\n",
    "            price *= 0.9\n",
    "\n",
    "        return price, regular_price\n",
    "\n",
    "    @property\n",
    "    def total_weight(self):\n",
    "        return sum(sack.weight for sack in self.sacks)\n",
    "\n",
    "delivery = Delivery()\n",
    "print(\"Enter sacks for the delivery. Type 'q' to finish.\")\n",
    "while True:\n",
    "    content = input(\"Enter the content of the sack (C, G, or S): \")\n",
    "    if content == 'q':\n",
    "        break\n",
    "    weight = float(input(\"Enter the weight of the sack: \"))\n",
    "    delivery.add_sack(Sack(weight, content))\n",
    "\n",
    "price, regular_price = delivery.calculate_price()\n",
    "print(\"Total weight:\", delivery.total_weight)\n",
    "print(\"Total price:\", price)\n",
    "print(\"Regular price:\", regular_price)"
   ]
  }
 ],
 "metadata": {
  "kernelspec": {
   "display_name": "base",
   "language": "python",
   "name": "python3"
  },
  "language_info": {
   "codemirror_mode": {
    "name": "ipython",
    "version": 3
   },
   "file_extension": ".py",
   "mimetype": "text/x-python",
   "name": "python",
   "nbconvert_exporter": "python",
   "pygments_lexer": "ipython3",
   "version": "3.11.5"
  }
 },
 "nbformat": 4,
 "nbformat_minor": 2
}
