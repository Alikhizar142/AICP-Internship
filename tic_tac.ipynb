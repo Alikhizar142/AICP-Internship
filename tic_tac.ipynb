{
 "cells": [
  {
   "cell_type": "markdown",
   "metadata": {},
   "source": [
    "# Creating board "
   ]
  },
  {
   "cell_type": "code",
   "execution_count": null,
   "metadata": {},
   "outputs": [],
   "source": [
    "def print_board(board):\n",
    "    for row in board:\n",
    "        print(\" | \".join(row))\n",
    "        print(\"_\"*9)"
   ]
  },
  {
   "cell_type": "markdown",
   "metadata": {},
   "source": [
    "# check winner "
   ]
  },
  {
   "cell_type": "code",
   "execution_count": null,
   "metadata": {},
   "outputs": [],
   "source": [
    "def check_winner(board,player):\n",
    "\n",
    "    # check rows and columns\n",
    "    for i in range(3):\n",
    "        if all(board[i][j]==player for j in range(3)) or all(board[j][i]== player for j in range(3)):\n",
    "            return True\n",
    "        # check diagonals\n",
    "        if all(board[i][i]== player for i in range(3)) or all(board[i][2-i]==player for i in range(3)):\n",
    "            return True\n",
    "        \n",
    "        return False"
   ]
  },
  {
   "cell_type": "markdown",
   "metadata": {},
   "source": [
    "# Check Valid move "
   ]
  },
  {
   "cell_type": "code",
   "execution_count": null,
   "metadata": {},
   "outputs": [],
   "source": [
    "def is_valid(board,row,col):\n",
    "    return 0<= row < 3 and 0<= col <3 and board[row][col]==\"\""
   ]
  },
  {
   "cell_type": "markdown",
   "metadata": {},
   "source": [
    "# MAIN "
   ]
  },
  {
   "cell_type": "code",
   "execution_count": 7,
   "metadata": {},
   "outputs": [
    {
     "name": "stdout",
     "output_type": "stream",
     "text": [
      "Welcome to Tic Tac Toe\n",
      " |  | \n",
      "_________\n",
      " |  | \n",
      "_________\n",
      " |  | \n",
      "_________\n",
      "Player X's turn\n",
      "X |  | \n",
      "_________\n",
      " |  | \n",
      "_________\n",
      " |  | \n",
      "_________\n",
      "Player O's turn\n",
      "X |  | \n",
      "_________\n",
      "O |  | \n",
      "_________\n",
      " |  | \n",
      "_________\n",
      "Player X's turn\n",
      "X |  | \n",
      "_________\n",
      "O | X | \n",
      "_________\n",
      " |  | \n",
      "_________\n",
      "Player O's turn\n",
      "X |  | O\n",
      "_________\n",
      "O | X | \n",
      "_________\n",
      " |  | \n",
      "_________\n",
      "Player X's turn\n",
      "X |  | O\n",
      "_________\n",
      "O | X | \n",
      "_________\n",
      " |  | X\n",
      "_________\n",
      "Player X wins\n"
     ]
    }
   ],
   "source": [
    "def play_game():\n",
    "    board=[[\"\"for _ in range(3)] for _ in range(3)]\n",
    "    players=[\"X\",\"O\"]\n",
    "    player_index =0\n",
    "    print(\"Welcome to Tic Tac Toe\")\n",
    "    print_board(board)\n",
    "\n",
    "    for turn in range(9):\n",
    "        curr=players[player_index]\n",
    "        print(f\"Player {curr}\\'s turn\")\n",
    "\n",
    "        while True:\n",
    "            row = int (input(\"Enter row(0,1,2):\"))\n",
    "            col = int (input(\"Enter column(0,1,2):\"))\n",
    "            if is_valid(board,row,col):\n",
    "                break\n",
    "            else:\n",
    "                print(\"Invalid move\")\n",
    "\n",
    "        board[row][col]=curr\n",
    "        print_board(board)\n",
    "\n",
    "        if check_winner(board,curr):\n",
    "            print(f\"Player {curr} wins\")\n",
    "            break\n",
    "        player_index=(player_index+1)%2\n",
    "    else:\n",
    "        print(\"Its a tie\")\n",
    "        \n",
    "\n",
    "play_game()\n"
   ]
  }
 ],
 "metadata": {
  "kernelspec": {
   "display_name": "base",
   "language": "python",
   "name": "python3"
  },
  "language_info": {
   "codemirror_mode": {
    "name": "ipython",
    "version": 3
   },
   "file_extension": ".py",
   "mimetype": "text/x-python",
   "name": "python",
   "nbconvert_exporter": "python",
   "pygments_lexer": "ipython3",
   "version": "3.11.5"
  }
 },
 "nbformat": 4,
 "nbformat_minor": 2
}
